{
 "cells": [
  {
   "cell_type": "code",
   "execution_count": null,
   "id": "da65d201-2fc1-4d55-80ed-39e49102011e",
   "metadata": {},
   "outputs": [],
   "source": [
    "import time\n",
    "from datetime import datetime\n",
    "import numpy as np\n",
    "import torch\n",
    "import torchvision\n",
    "from matplotlib import pyplot as plt\n",
    "from matplotlib import cm\n",
    "from matplotlib.animation import FuncAnimation\n",
    "import torch.nn.functional as F\n",
    "\n",
    "import sys\n",
    "sys.path.insert(0, '/home/dwh48@drexel.edu/sparse_coding_torch')\n",
    "\n",
    "from feature_extraction.conv_sparse_model import ConvSparseLayer\n",
    "from data_classifiers.small_data_classifier import SmallDataClassifier\n",
    "\n",
    "from sklearn.model_selection import train_test_split\n",
    "\n",
    "from feature_extraction.train_conv3d_sparse_model import load_balls_data\n",
    "from feature_extraction.train_conv3d_sparse_model import plot_original_vs_recon\n",
    "from feature_extraction.train_conv3d_sparse_model import plot_filters\n",
    "from feature_extraction.train_conv3d_sparse_model import plot_video\n",
    "\n",
    "from utils.load_data import load_bamc_data, load_covid_data\n",
    "\n",
    "from IPython.display import HTML\n"
   ]
  },
  {
   "cell_type": "code",
   "execution_count": null,
   "id": "16e1cbdd-5c1f-4179-a675-083fc853a9fe",
   "metadata": {},
   "outputs": [],
   "source": [
    "device = torch.device(\"cuda:0\" if torch.cuda.is_available() else \"cpu\")\n",
    "if device == \"cpu\":\n",
    "    batch_size = 1\n",
    "else:\n",
    "    batch_size = 4*3\n",
    "    # batch_size = 3\n",
    "    \n",
    "train_loader, test_loader = load_bamc_data(batch_size, 0.8)\n",
    "print('Loaded', len(train_loader), 'train examples')\n",
    "print('Loaded', len(test_loader), 'test examples')\n",
    "\n",
    "example_data = next(iter(train_loader))\n",
    "\n",
    "sparse_layer = ConvSparseLayer(in_channels=1,\n",
    "                               out_channels=128,\n",
    "                               kernel_size=(5, 16, 16),\n",
    "                               stride=4,\n",
    "                               padding=0,\n",
    "                               convo_dim=3,\n",
    "                               rectifier=True,\n",
    "                               lam=0.05,\n",
    "                               max_activation_iter=1000,\n",
    "                               activation_lr=1e-4)"
   ]
  },
  {
   "cell_type": "code",
   "execution_count": null,
   "id": "35b23254-71c8-4712-ad39-822c3cf5d3dc",
   "metadata": {},
   "outputs": [],
   "source": [
    "sparse_layer.import_opencv_dir('/home/dwh48@drexel.edu/sparse_coding_torch/eds_weights')"
   ]
  },
  {
   "cell_type": "code",
   "execution_count": null,
   "id": "adb2720c-aeee-4b9d-9925-78666979a1aa",
   "metadata": {},
   "outputs": [],
   "source": [
    "x = sparse_layer.filters.data\n",
    "print(x.size())"
   ]
  },
  {
   "cell_type": "code",
   "execution_count": null,
   "id": "a090f126-dacb-49b0-b400-fc8fae08a32f",
   "metadata": {},
   "outputs": [],
   "source": []
  },
  {
   "cell_type": "code",
   "execution_count": null,
   "id": "6d114e02-aaca-423e-99fa-ff7d127fb1ee",
   "metadata": {},
   "outputs": [],
   "source": []
  }
 ],
 "metadata": {
  "kernelspec": {
   "display_name": "Python (pocus_project)",
   "language": "python",
   "name": "darryl_pocus"
  },
  "language_info": {
   "codemirror_mode": {
    "name": "ipython",
    "version": 3
   },
   "file_extension": ".py",
   "mimetype": "text/x-python",
   "name": "python",
   "nbconvert_exporter": "python",
   "pygments_lexer": "ipython3",
   "version": "3.9.7"
  }
 },
 "nbformat": 4,
 "nbformat_minor": 5
}
